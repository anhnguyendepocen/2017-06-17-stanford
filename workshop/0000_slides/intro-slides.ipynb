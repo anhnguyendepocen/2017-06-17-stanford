{
 "cells": [
  {
   "cell_type": "markdown",
   "metadata": {
    "slideshow": {
     "slide_type": "slide"
    }
   },
   "source": [
    "<font size=\"48\">Hello and welcome to</font>\n",
    "<img src=\"https://www.software.ac.uk/sites/default/files/images/content/DC1_logo.jpg\" width=\"40%\" height=\"20%\"/><img src=\"http://stanford.edu/~peatt/network-science/images/SU-tree-stacked.png\" width=\"40%\" height=\"30%\"/>"
   ]
  },
  {
   "cell_type": "markdown",
   "metadata": {
    "slideshow": {
     "slide_type": "slide"
    }
   },
   "source": [
    "# Data Carpentry develops and teaches workshops on the fundamental data skills needed to conduct research\n",
    "\n",
    "* All Material is open access (CC-BY). Please freely share, re-use, modify (just mention DC as original source).\n",
    "\n",
    "* Formally organized as a non-profit membership organization.\n",
    "\n",
    "* Data Carpentry trains researchers in the core data skills for efficient, shareable, and reproducible research practices. We run accessible, inclusive training workshops; teach openly available, high-quality, domain-tailored lessons; and foster an active, inclusive, diverse instructor community that promotes and models reproducible research as a community norm."
   ]
  },
  {
   "cell_type": "markdown",
   "metadata": {
    "slideshow": {
     "slide_type": "slide"
    }
   },
   "source": [
    "<img src=\"Past_Workshops.jpg\" width=\"90%\" height=\"90%\"/>"
   ]
  },
  {
   "cell_type": "markdown",
   "metadata": {
    "slideshow": {
     "slide_type": "slide"
    }
   },
   "source": [
    "# Problem\n",
    "\n",
    "Surveyed almost two thousand scientists in 2008:\n",
    "\n",
    "* How do you use a computer?\n",
    "* How did you learn what you know?"
   ]
  },
  {
   "cell_type": "markdown",
   "metadata": {
    "slideshow": {
     "slide_type": "fragment"
    }
   },
   "source": [
    "# Answers\n",
    "\n",
    "* On average they spend 40% of their time building or using software.\n",
    "* More than half say this number is increasing.\n",
    "* **96%** say that what they know is **mostly self-taught**."
   ]
  },
  {
   "cell_type": "markdown",
   "metadata": {
    "slideshow": {
     "slide_type": "subslide"
    }
   },
   "source": [
    "# What Data Carpentry does\n",
    "\n",
    "Runs workshops over two full days of instruction:\n",
    "\n",
    "* Workshops are currently designed for people with little to no prior computational experience and are domain-specific, so that researchers are working with data most relevant to their own work. \n",
    "\n",
    "* They follow a narrative structure, working with one dataset through the whole data lifecycle from data and project organization to data analysis and visualization.\n"
   ]
  },
  {
   "cell_type": "markdown",
   "metadata": {
    "slideshow": {
     "slide_type": "slide"
    }
   },
   "source": [
    "# A place for everything and everything in its place.\n",
    "\n",
    "<img src=\"http://images.fineartamerica.com/images-medium-large/a-place-for-everything-and-everything-in-its-place-andrew-armstrong.jpg\" width=\"70%\"><br />"
   ]
  },
  {
   "cell_type": "markdown",
   "metadata": {
    "slideshow": {
     "slide_type": "subslide"
    }
   },
   "source": [
    "# It's just pure functionality\n",
    "\n",
    "<blockquote>I mean, there’s so much s*** in here; all of it’s used, otherwise it wouldn’t be in here, and you have to keep track of it. \n",
    "<br /><br />So every minute that I spend looking for, like, velcro tape, or my drill gun, is a minute I’m not doing something productive so why not build an infrastructure that supports that rather than encourages the chaos. </blockquote> - Casey Neistat "
   ]
  },
  {
   "cell_type": "markdown",
   "metadata": {
    "slideshow": {
     "slide_type": "subslide"
    }
   },
   "source": [
    "# A place for everything and everything in its place.\n",
    "\n",
    "<img src=\"http://www.phdcomics.com/comics/archive/phd052810s.gif\">"
   ]
  },
  {
   "cell_type": "markdown",
   "metadata": {
    "slideshow": {
     "slide_type": "subslide"
    }
   },
   "source": [
    "# Format (and write) code for humans, format (and write) data for computers\n",
    "\n",
    "<blockquote>\"Let us change our traditional attitude to the construction of programs: Instead of imagining that our main task is to instruct a computer what to do, let us concentrate rather on explaining to humans what we want the computer to do.\"</blockquote> - Donald Knuth"
   ]
  },
  {
   "cell_type": "markdown",
   "metadata": {
    "slideshow": {
     "slide_type": "subslide"
    }
   },
   "source": [
    "# Better algorithms beat better hardware"
   ]
  },
  {
   "cell_type": "markdown",
   "metadata": {
    "slideshow": {
     "slide_type": "subslide"
    }
   },
   "source": [
    "# The source code is real\n",
    "\n",
    "The objects are realizations of the source code."
   ]
  },
  {
   "cell_type": "markdown",
   "metadata": {
    "slideshow": {
     "slide_type": "slide"
    }
   },
   "source": [
    "# Housekeeping"
   ]
  },
  {
   "cell_type": "markdown",
   "metadata": {
    "slideshow": {
     "slide_type": "subslide"
    }
   },
   "source": [
    "# Today's topics\n",
    "\n",
    "* Intro to the workshop and the dataset we'll be working with\n",
    "* Data tidiness\n",
    "* Using cloud computing\n",
    "* Intro to the command line\n",
    "* Wrangling data and scripting processing steps\n"
   ]
  },
  {
   "cell_type": "markdown",
   "metadata": {
    "slideshow": {
     "slide_type": "subslide"
    }
   },
   "source": [
    "# Typing\n",
    "\n",
    "* Typos matter\n",
    "* cAsE maTTerS\n",
    "* *th.is* is different from *th-is*\n",
    "* spaces in the names are evil\n",
    "\n",
    "Tab completion is your friend!"
   ]
  },
  {
   "cell_type": "markdown",
   "metadata": {
    "slideshow": {
     "slide_type": "subslide"
    }
   },
   "source": [
    "# Sticky Notes\n",
    "\n",
    "Easy visual feedback for instructors.\n",
    "\n",
    "* <font color=\"red\">If you are lost, confused, or need help, put the red sticky up on your laptop.</font>\n",
    "* <font color=\"green\">If all is well, put up the green sticky.</font>\n",
    "\n",
    "*Please asks questions immediately. Don't fall behind.*\n",
    "\n",
    "**Stickies also double as feedback form.**"
   ]
  },
  {
   "cell_type": "markdown",
   "metadata": {
    "slideshow": {
     "slide_type": "subslide"
    }
   },
   "source": [
    "<img src=\"http://i.imgur.com/NLBblN3.jpg\">"
   ]
  },
  {
   "cell_type": "markdown",
   "metadata": {
    "slideshow": {
     "slide_type": "subslide"
    }
   },
   "source": [
    "# Etherpad\n",
    "\n",
    "<a href=\"http://pad.software-carpentry.org/2017-06-17-stanford\">Click.</a>\n",
    "\n",
    "* Easy to share code and useful links.\n",
    "* Share notes with everyone\n",
    "* Ask questions."
   ]
  },
  {
   "cell_type": "markdown",
   "metadata": {
    "slideshow": {
     "slide_type": "subslide"
    }
   },
   "source": [
    "# Tools\n",
    "\n",
    "Things you want to have open:\n",
    "\n",
    "* Bootcamp etherpad\n",
    "* Note-taking device (optional, all material is freely available online)\n",
    "\n",
    "<img src=\"https://upload.wikimedia.org/wikipedia/en/thumb/9/9f/Twitter_bird_logo_2012.svg/1259px-Twitter_bird_logo_2012.svg.png\" width=\"10%\" height=\"10%\"/>\n",
    "\n",
    "If you're on twitter, tweet at **@datacarpentry** or use the hashtag **#dcstanford**\n",
    "\n",
    "We're **@naupakaz** and **@emhrt_**"
   ]
  },
  {
   "cell_type": "code",
   "execution_count": 0,
   "metadata": {
    "slideshow": {
     "slide_type": "skip"
    }
   },
   "outputs": [],
   "source": []
  }
 ],
 "metadata": {
  "celltoolbar": "Slideshow",
  "kernelspec": {
   "display_name": "Python 2",
   "language": "python",
   "name": "python2"
  },
  "language_info": {
   "codemirror_mode": {
    "name": "ipython",
    "version": 2
   },
   "file_extension": ".py",
   "mimetype": "text/x-python",
   "name": "python",
   "nbconvert_exporter": "python",
   "pygments_lexer": "ipython2",
   "version": "2.7.13"
  }
 },
 "nbformat": 4,
 "nbformat_minor": 1
}
